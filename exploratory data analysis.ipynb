{
 "cells": [
  {
   "cell_type": "code",
   "execution_count": 1,
   "id": "05cee700",
   "metadata": {},
   "outputs": [],
   "source": [
    "import pandas as pd\n",
    "import numpy as np\n",
    "import seaborn as sns"
   ]
  },
  {
   "cell_type": "code",
   "execution_count": 2,
   "id": "c3cb1422",
   "metadata": {},
   "outputs": [],
   "source": [
    "df = pd.read_csv('train.csv')"
   ]
  },
  {
   "cell_type": "code",
   "execution_count": 3,
   "id": "31a99506",
   "metadata": {},
   "outputs": [
    {
     "data": {
      "text/html": [
       "<div>\n",
       "<style scoped>\n",
       "    .dataframe tbody tr th:only-of-type {\n",
       "        vertical-align: middle;\n",
       "    }\n",
       "\n",
       "    .dataframe tbody tr th {\n",
       "        vertical-align: top;\n",
       "    }\n",
       "\n",
       "    .dataframe thead th {\n",
       "        text-align: right;\n",
       "    }\n",
       "</style>\n",
       "<table border=\"1\" class=\"dataframe\">\n",
       "  <thead>\n",
       "    <tr style=\"text-align: right;\">\n",
       "      <th></th>\n",
       "      <th>ID</th>\n",
       "      <th>year_of_poll</th>\n",
       "      <th>own_self_emp</th>\n",
       "      <th>veteran benefits</th>\n",
       "      <th>currently_enrolled</th>\n",
       "      <th>race</th>\n",
       "      <th>father_country</th>\n",
       "      <th>educ</th>\n",
       "      <th>house_stat</th>\n",
       "      <th>major_ind_code</th>\n",
       "      <th>...</th>\n",
       "      <th>income_filled</th>\n",
       "      <th>weeks_worked</th>\n",
       "      <th>under18</th>\n",
       "      <th>hourly_wage</th>\n",
       "      <th>unemp_reason</th>\n",
       "      <th>citizenship</th>\n",
       "      <th>woker_type</th>\n",
       "      <th>fed_liability</th>\n",
       "      <th>full_partime_job</th>\n",
       "      <th>income</th>\n",
       "    </tr>\n",
       "  </thead>\n",
       "  <tbody>\n",
       "    <tr>\n",
       "      <th>0</th>\n",
       "      <td>0</td>\n",
       "      <td>2004</td>\n",
       "      <td>0</td>\n",
       "      <td>2</td>\n",
       "      <td>High school</td>\n",
       "      <td>White</td>\n",
       "      <td>United-States</td>\n",
       "      <td>Associates degree-academic program</td>\n",
       "      <td>Householder</td>\n",
       "      <td>Business and repair services</td>\n",
       "      <td>...</td>\n",
       "      <td>No</td>\n",
       "      <td>47</td>\n",
       "      <td>NaN</td>\n",
       "      <td>0.0</td>\n",
       "      <td>NaN</td>\n",
       "      <td>NB_US</td>\n",
       "      <td>Pvt</td>\n",
       "      <td>Joint_both_under65</td>\n",
       "      <td>Children/Armed_Forces</td>\n",
       "      <td>More than 50K $</td>\n",
       "    </tr>\n",
       "    <tr>\n",
       "      <th>1</th>\n",
       "      <td>1</td>\n",
       "      <td>2005</td>\n",
       "      <td>0</td>\n",
       "      <td>0</td>\n",
       "      <td>College/University</td>\n",
       "      <td>White</td>\n",
       "      <td>Japan</td>\n",
       "      <td>Children</td>\n",
       "      <td>Child &lt;18 never marr not in subfamily</td>\n",
       "      <td>Not in universe or children</td>\n",
       "      <td>...</td>\n",
       "      <td>No</td>\n",
       "      <td>0</td>\n",
       "      <td>Both_Pr</td>\n",
       "      <td>0.0</td>\n",
       "      <td>NaN</td>\n",
       "      <td>NB_US</td>\n",
       "      <td>NaN</td>\n",
       "      <td>Nonfiler</td>\n",
       "      <td>Children/Armed_Forces</td>\n",
       "      <td>More than 50K $</td>\n",
       "    </tr>\n",
       "    <tr>\n",
       "      <th>2</th>\n",
       "      <td>2</td>\n",
       "      <td>2004</td>\n",
       "      <td>0</td>\n",
       "      <td>2</td>\n",
       "      <td>NaN</td>\n",
       "      <td>White</td>\n",
       "      <td>United-States</td>\n",
       "      <td>Some college but no degree</td>\n",
       "      <td>Secondary individual</td>\n",
       "      <td>Manufacturing-durable goods</td>\n",
       "      <td>...</td>\n",
       "      <td>Yes</td>\n",
       "      <td>47</td>\n",
       "      <td>NaN</td>\n",
       "      <td>0.0</td>\n",
       "      <td>NaN</td>\n",
       "      <td>NB_US</td>\n",
       "      <td>Pvt</td>\n",
       "      <td>Single</td>\n",
       "      <td>Children/Armed_Forces</td>\n",
       "      <td>More than 50K $</td>\n",
       "    </tr>\n",
       "    <tr>\n",
       "      <th>3</th>\n",
       "      <td>3</td>\n",
       "      <td>2004</td>\n",
       "      <td>0</td>\n",
       "      <td>2</td>\n",
       "      <td>College/University</td>\n",
       "      <td>Amer/Indian/Aleut/Eskimo</td>\n",
       "      <td>United-States</td>\n",
       "      <td>High school graduate</td>\n",
       "      <td>Householder</td>\n",
       "      <td>Wholesale trade</td>\n",
       "      <td>...</td>\n",
       "      <td>NaN</td>\n",
       "      <td>47</td>\n",
       "      <td>NaN</td>\n",
       "      <td>0.0</td>\n",
       "      <td>NaN</td>\n",
       "      <td>NB_US</td>\n",
       "      <td>Pvt</td>\n",
       "      <td>Joint_both_under65</td>\n",
       "      <td>Children/Armed_Forces</td>\n",
       "      <td>More than 50K $</td>\n",
       "    </tr>\n",
       "    <tr>\n",
       "      <th>4</th>\n",
       "      <td>4</td>\n",
       "      <td>2004</td>\n",
       "      <td>0</td>\n",
       "      <td>2</td>\n",
       "      <td>NaN</td>\n",
       "      <td>White</td>\n",
       "      <td>United-States</td>\n",
       "      <td>High school graduate</td>\n",
       "      <td>Householder</td>\n",
       "      <td>Wholesale trade</td>\n",
       "      <td>...</td>\n",
       "      <td>NaN</td>\n",
       "      <td>47</td>\n",
       "      <td>NaN</td>\n",
       "      <td>0.0</td>\n",
       "      <td>NaN</td>\n",
       "      <td>NB_US</td>\n",
       "      <td>Pvt</td>\n",
       "      <td>Single</td>\n",
       "      <td>Children/Armed_Forces</td>\n",
       "      <td>More than 50K $</td>\n",
       "    </tr>\n",
       "  </tbody>\n",
       "</table>\n",
       "<p>5 rows × 34 columns</p>\n",
       "</div>"
      ],
      "text/plain": [
       "   ID  year_of_poll  own_self_emp  veteran benefits  currently_enrolled  \\\n",
       "0   0          2004             0                 2         High school   \n",
       "1   1          2005             0                 0  College/University   \n",
       "2   2          2004             0                 2                 NaN   \n",
       "3   3          2004             0                 2  College/University   \n",
       "4   4          2004             0                 2                 NaN   \n",
       "\n",
       "                       race  father_country  \\\n",
       "0                     White   United-States   \n",
       "1                     White           Japan   \n",
       "2                     White   United-States   \n",
       "3  Amer/Indian/Aleut/Eskimo   United-States   \n",
       "4                     White   United-States   \n",
       "\n",
       "                                  educ  \\\n",
       "0   Associates degree-academic program   \n",
       "1                             Children   \n",
       "2           Some college but no degree   \n",
       "3                 High school graduate   \n",
       "4                 High school graduate   \n",
       "\n",
       "                               house_stat                 major_ind_code  ...  \\\n",
       "0                             Householder   Business and repair services  ...   \n",
       "1   Child <18 never marr not in subfamily    Not in universe or children  ...   \n",
       "2                    Secondary individual    Manufacturing-durable goods  ...   \n",
       "3                             Householder                Wholesale trade  ...   \n",
       "4                             Householder                Wholesale trade  ...   \n",
       "\n",
       "  income_filled weeks_worked  under18  hourly_wage unemp_reason citizenship  \\\n",
       "0            No           47      NaN          0.0          NaN       NB_US   \n",
       "1            No            0  Both_Pr          0.0          NaN       NB_US   \n",
       "2           Yes           47      NaN          0.0          NaN       NB_US   \n",
       "3           NaN           47      NaN          0.0          NaN       NB_US   \n",
       "4           NaN           47      NaN          0.0          NaN       NB_US   \n",
       "\n",
       "  woker_type       fed_liability       full_partime_job           income  \n",
       "0        Pvt  Joint_both_under65  Children/Armed_Forces  More than 50K $  \n",
       "1        NaN            Nonfiler  Children/Armed_Forces  More than 50K $  \n",
       "2        Pvt              Single  Children/Armed_Forces  More than 50K $  \n",
       "3        Pvt  Joint_both_under65  Children/Armed_Forces  More than 50K $  \n",
       "4        Pvt              Single  Children/Armed_Forces  More than 50K $  \n",
       "\n",
       "[5 rows x 34 columns]"
      ]
     },
     "execution_count": 3,
     "metadata": {},
     "output_type": "execute_result"
    }
   ],
   "source": [
    "df.head()"
   ]
  },
  {
   "cell_type": "code",
   "execution_count": 4,
   "id": "b8c33050",
   "metadata": {},
   "outputs": [
    {
     "data": {
      "text/plain": [
       "(105000, 34)"
      ]
     },
     "execution_count": 4,
     "metadata": {},
     "output_type": "execute_result"
    }
   ],
   "source": [
    "df.shape"
   ]
  },
  {
   "cell_type": "code",
   "execution_count": 5,
   "id": "09e76647",
   "metadata": {},
   "outputs": [
    {
     "data": {
      "text/plain": [
       "<bound method Series.unique of 0              0\n",
       "1              1\n",
       "2              2\n",
       "3              3\n",
       "4              4\n",
       "           ...  \n",
       "104995    104995\n",
       "104996    104996\n",
       "104997    104997\n",
       "104998    104998\n",
       "104999    104999\n",
       "Name: ID, Length: 105000, dtype: int64>"
      ]
     },
     "execution_count": 5,
     "metadata": {},
     "output_type": "execute_result"
    }
   ],
   "source": [
    "df['ID'].unique"
   ]
  },
  {
   "cell_type": "code",
   "execution_count": 6,
   "id": "4506f933",
   "metadata": {},
   "outputs": [],
   "source": [
    "# the id column is not a significant column"
   ]
  },
  {
   "cell_type": "code",
   "execution_count": 7,
   "id": "e909423a",
   "metadata": {},
   "outputs": [
    {
     "data": {
      "text/plain": [
       "<bound method NDFrame.describe of             ID  year_of_poll  own_self_emp  veteran benefits  \\\n",
       "0            0          2004             0                 2   \n",
       "1            1          2005             0                 0   \n",
       "2            2          2004             0                 2   \n",
       "3            3          2004             0                 2   \n",
       "4            4          2004             0                 2   \n",
       "...        ...           ...           ...               ...   \n",
       "104995  104995          2005             2                 2   \n",
       "104996  104996          2004             0                 0   \n",
       "104997  104997          2004             0                 2   \n",
       "104998  104998          2005             0                 2   \n",
       "104999  104999          2005             0                 0   \n",
       "\n",
       "        currently_enrolled                      race  father_country  \\\n",
       "0              High school                     White   United-States   \n",
       "1       College/University                     White           Japan   \n",
       "2                      NaN                     White   United-States   \n",
       "3       College/University  Amer/Indian/Aleut/Eskimo   United-States   \n",
       "4                      NaN                     White   United-States   \n",
       "...                    ...                       ...             ...   \n",
       "104995                 NaN                     White   United-States   \n",
       "104996  College/University                     White   United-States   \n",
       "104997                 NaN                     White   United-States   \n",
       "104998                 NaN                     White           Italy   \n",
       "104999                 NaN                     White   United-States   \n",
       "\n",
       "                                       educ  \\\n",
       "0        Associates degree-academic program   \n",
       "1                                  Children   \n",
       "2                Some college but no degree   \n",
       "3                      High school graduate   \n",
       "4                      High school graduate   \n",
       "...                                     ...   \n",
       "104995                 High school graduate   \n",
       "104996                             Children   \n",
       "104997                 High school graduate   \n",
       "104998                 High school graduate   \n",
       "104999                             Children   \n",
       "\n",
       "                                    house_stat  \\\n",
       "0                                  Householder   \n",
       "1        Child <18 never marr not in subfamily   \n",
       "2                         Secondary individual   \n",
       "3                                  Householder   \n",
       "4                                  Householder   \n",
       "...                                        ...   \n",
       "104995                             Householder   \n",
       "104996   Child <18 never marr not in subfamily   \n",
       "104997                   Nonfamily householder   \n",
       "104998                   Nonfamily householder   \n",
       "104999   Child <18 never marr not in subfamily   \n",
       "\n",
       "                         major_ind_code  ... income_filled weeks_worked  \\\n",
       "0          Business and repair services  ...            No           47   \n",
       "1           Not in universe or children  ...            No            0   \n",
       "2           Manufacturing-durable goods  ...           Yes           47   \n",
       "3                       Wholesale trade  ...           NaN           47   \n",
       "4                       Wholesale trade  ...           NaN           47   \n",
       "...                                 ...  ...           ...          ...   \n",
       "104995      Not in universe or children  ...           Yes           47   \n",
       "104996      Not in universe or children  ...            No            0   \n",
       "104997   Manufacturing-nondurable goods  ...           NaN           47   \n",
       "104998      Not in universe or children  ...           NaN            0   \n",
       "104999      Not in universe or children  ...            No            0   \n",
       "\n",
       "        under18  hourly_wage unemp_reason citizenship woker_type  \\\n",
       "0           NaN          0.0          NaN       NB_US        Pvt   \n",
       "1       Both_Pr          0.0          NaN       NB_US        NaN   \n",
       "2           NaN          0.0          NaN       NB_US        Pvt   \n",
       "3           NaN          0.0          NaN       NB_US        Pvt   \n",
       "4           NaN          0.0          NaN       NB_US        Pvt   \n",
       "...         ...          ...          ...         ...        ...   \n",
       "104995      NaN          0.0          NaN       NB_US        NaN   \n",
       "104996  Both_Pr          0.0          NaN       NB_US        NaN   \n",
       "104997      NaN       1693.2          NaN       NB_US        Pvt   \n",
       "104998      NaN          0.0          NaN       NB_US        NaN   \n",
       "104999  Both_Pr          0.0          NaN       NB_US        NaN   \n",
       "\n",
       "             fed_liability       full_partime_job           income  \n",
       "0       Joint_both_under65  Children/Armed_Forces  More than 50K $  \n",
       "1                 Nonfiler  Children/Armed_Forces  More than 50K $  \n",
       "2                   Single  Children/Armed_Forces  More than 50K $  \n",
       "3       Joint_both_under65  Children/Armed_Forces  More than 50K $  \n",
       "4                   Single  Children/Armed_Forces  More than 50K $  \n",
       "...                    ...                    ...              ...  \n",
       "104995            Nonfiler     Not in labor force  More than 50K $  \n",
       "104996            Nonfiler  Children/Armed_Forces  More than 50K $  \n",
       "104997              Single  Children/Armed_Forces  More than 50K $  \n",
       "104998            Nonfiler     Not in labor force  More than 50K $  \n",
       "104999            Nonfiler  Children/Armed_Forces  More than 50K $  \n",
       "\n",
       "[105000 rows x 34 columns]>"
      ]
     },
     "execution_count": 7,
     "metadata": {},
     "output_type": "execute_result"
    }
   ],
   "source": [
    "df.describe"
   ]
  },
  {
   "cell_type": "code",
   "execution_count": 8,
   "id": "51174741",
   "metadata": {},
   "outputs": [
    {
     "data": {
      "text/plain": [
       "Index(['ID', 'year_of_poll', 'own_self_emp', 'veteran benefits',\n",
       "       'currently_enrolled', 'race', 'father_country', 'educ', 'house_stat',\n",
       "       'major_ind_code', 'labour_union', 'self_country', 'major_occ_code',\n",
       "       'age', 'mother_country', 'house_summary', 'gender', 'hisp_origin',\n",
       "       'gains', 'dividends', 'marriage_status', 'losses', 'employer_of',\n",
       "       'house_1yr_ago', 'income_filled', 'weeks_worked', 'under18',\n",
       "       'hourly_wage', 'unemp_reason', 'citizenship', 'woker_type',\n",
       "       'fed_liability', 'full_partime_job', 'income'],\n",
       "      dtype='object')"
      ]
     },
     "execution_count": 8,
     "metadata": {},
     "output_type": "execute_result"
    }
   ],
   "source": [
    "df.columns"
   ]
  },
  {
   "cell_type": "code",
   "execution_count": 9,
   "id": "d000a504",
   "metadata": {},
   "outputs": [
    {
     "data": {
      "text/plain": [
       "2005    52532\n",
       "2004    52468\n",
       "Name: year_of_poll, dtype: int64"
      ]
     },
     "execution_count": 9,
     "metadata": {},
     "output_type": "execute_result"
    }
   ],
   "source": [
    "df['year_of_poll'].value_counts()"
   ]
  },
  {
   "cell_type": "code",
   "execution_count": 10,
   "id": "38972aac",
   "metadata": {},
   "outputs": [
    {
     "data": {
      "text/plain": [
       "0    95004\n",
       "2     8568\n",
       "1     1428\n",
       "Name: own_self_emp, dtype: int64"
      ]
     },
     "execution_count": 10,
     "metadata": {},
     "output_type": "execute_result"
    }
   ],
   "source": [
    "df['own_self_emp'].value_counts()"
   ]
  },
  {
   "cell_type": "code",
   "execution_count": 11,
   "id": "63bd0bc3",
   "metadata": {},
   "outputs": [
    {
     "data": {
      "text/plain": [
       "ID                     0.000000\n",
       "year_of_poll           0.000000\n",
       "own_self_emp           0.000000\n",
       "veteran benefits       0.000000\n",
       "currently_enrolled    29.945714\n",
       "race                   0.000000\n",
       "father_country         0.000000\n",
       "educ                   0.000000\n",
       "house_stat             0.010476\n",
       "major_ind_code         0.000000\n",
       "labour_union          33.648571\n",
       "self_country           0.000000\n",
       "major_occ_code        50.528571\n",
       "age                    0.000000\n",
       "mother_country         0.000000\n",
       "house_summary          0.000000\n",
       "gender                 0.000000\n",
       "hisp_origin            0.000000\n",
       "gains                  0.000000\n",
       "dividends              0.000000\n",
       "marriage_status        0.000000\n",
       "losses                 0.000000\n",
       "employer_of            0.000000\n",
       "house_1yr_ago         50.782857\n",
       "income_filled         30.860000\n",
       "weeks_worked           0.000000\n",
       "under18               72.396190\n",
       "hourly_wage            0.000000\n",
       "unemp_reason          96.962857\n",
       "citizenship            0.000000\n",
       "woker_type            50.319048\n",
       "fed_liability          0.000000\n",
       "full_partime_job       1.325714\n",
       "income                 0.000000\n",
       "dtype: float64"
      ]
     },
     "execution_count": 11,
     "metadata": {},
     "output_type": "execute_result"
    }
   ],
   "source": [
    "(df.isnull().sum()/len(df))*100"
   ]
  },
  {
   "cell_type": "code",
   "execution_count": 12,
   "id": "804ba375",
   "metadata": {},
   "outputs": [],
   "source": [
    "# unemp_reason,house_1yr_ago,under18,woker_type,major_occ_code has high percentage of data "
   ]
  },
  {
   "cell_type": "code",
   "execution_count": 13,
   "id": "498268b8",
   "metadata": {},
   "outputs": [],
   "source": [
    "df.drop(['unemp_reason','house_1yr_ago','under18','woker_type','major_occ_code','ID'],axis=1,inplace=True)"
   ]
  },
  {
   "cell_type": "code",
   "execution_count": 14,
   "id": "dcc0147f",
   "metadata": {},
   "outputs": [
    {
     "data": {
      "text/plain": [
       "(105000, 28)"
      ]
     },
     "execution_count": 14,
     "metadata": {},
     "output_type": "execute_result"
    }
   ],
   "source": [
    "df.shape\n"
   ]
  },
  {
   "cell_type": "code",
   "execution_count": 15,
   "id": "bedc1fff",
   "metadata": {},
   "outputs": [
    {
     "data": {
      "text/plain": [
       "College/University    42386\n",
       " High school          31171\n",
       "Name: currently_enrolled, dtype: int64"
      ]
     },
     "execution_count": 15,
     "metadata": {},
     "output_type": "execute_result"
    }
   ],
   "source": [
    "df['currently_enrolled'].value_counts()"
   ]
  },
  {
   "cell_type": "code",
   "execution_count": 16,
   "id": "8116a32f",
   "metadata": {},
   "outputs": [
    {
     "data": {
      "text/plain": [
       "0    College/University\n",
       "Name: currently_enrolled, dtype: object"
      ]
     },
     "execution_count": 16,
     "metadata": {},
     "output_type": "execute_result"
    }
   ],
   "source": [
    "df['currently_enrolled'].mode()"
   ]
  },
  {
   "cell_type": "code",
   "execution_count": 17,
   "id": "b3d4315a",
   "metadata": {},
   "outputs": [],
   "source": [
    "df['currently_enrolled'].fillna('College/University',inplace=True)"
   ]
  },
  {
   "cell_type": "code",
   "execution_count": 18,
   "id": "33c08bab",
   "metadata": {},
   "outputs": [
    {
     "data": {
      "text/plain": [
       "no     59270\n",
       "yes    10399\n",
       "Name: labour_union, dtype: int64"
      ]
     },
     "execution_count": 18,
     "metadata": {},
     "output_type": "execute_result"
    }
   ],
   "source": [
    "df['labour_union'].value_counts()"
   ]
  },
  {
   "cell_type": "code",
   "execution_count": 19,
   "id": "a83ef21b",
   "metadata": {},
   "outputs": [],
   "source": [
    "df['labour_union'].fillna('no',inplace=True)"
   ]
  },
  {
   "cell_type": "code",
   "execution_count": 20,
   "id": "b1e816de",
   "metadata": {},
   "outputs": [
    {
     "data": {
      "text/plain": [
       "count     72597\n",
       "unique        2\n",
       "top          No\n",
       "freq      56142\n",
       "Name: income_filled, dtype: object"
      ]
     },
     "execution_count": 20,
     "metadata": {},
     "output_type": "execute_result"
    }
   ],
   "source": [
    "df['income_filled'].describe()"
   ]
  },
  {
   "cell_type": "code",
   "execution_count": 21,
   "id": "d191cb1d",
   "metadata": {},
   "outputs": [
    {
     "data": {
      "text/plain": [
       " No     56142\n",
       " Yes    16455\n",
       "Name: income_filled, dtype: int64"
      ]
     },
     "execution_count": 21,
     "metadata": {},
     "output_type": "execute_result"
    }
   ],
   "source": [
    "df['income_filled'].value_counts()"
   ]
  },
  {
   "cell_type": "code",
   "execution_count": 22,
   "id": "df6aa422",
   "metadata": {},
   "outputs": [],
   "source": [
    "df['income_filled'].fillna('yes',inplace=True)"
   ]
  },
  {
   "cell_type": "code",
   "execution_count": 23,
   "id": "1a1b0d47",
   "metadata": {},
   "outputs": [
    {
     "data": {
      "text/plain": [
       "count                    103608\n",
       "unique                        8\n",
       "top       Children/Armed_Forces\n",
       "freq                      64168\n",
       "Name: full_partime_job, dtype: object"
      ]
     },
     "execution_count": 23,
     "metadata": {},
     "output_type": "execute_result"
    }
   ],
   "source": [
    "df['full_partime_job'].describe()"
   ]
  },
  {
   "cell_type": "code",
   "execution_count": 24,
   "id": "197b268a",
   "metadata": {},
   "outputs": [
    {
     "data": {
      "text/plain": [
       "Children/Armed_Forces                  64168\n",
       " Full-time schedules                   21083\n",
       " Not in labor force                    14051\n",
       " PT for non-econ reasons usually FT     1737\n",
       " Unemployed full-time                   1185\n",
       " PT for econ reasons usually PT          654\n",
       " Unemployed part- time                   450\n",
       " PT for econ reasons usually FT          280\n",
       "Name: full_partime_job, dtype: int64"
      ]
     },
     "execution_count": 24,
     "metadata": {},
     "output_type": "execute_result"
    }
   ],
   "source": [
    "df['full_partime_job'].value_counts()"
   ]
  },
  {
   "cell_type": "code",
   "execution_count": 25,
   "id": "70aa89ef",
   "metadata": {},
   "outputs": [
    {
     "data": {
      "text/plain": [
       "0    Children/Armed_Forces\n",
       "Name: full_partime_job, dtype: object"
      ]
     },
     "execution_count": 25,
     "metadata": {},
     "output_type": "execute_result"
    }
   ],
   "source": [
    "df['full_partime_job'].mode()"
   ]
  },
  {
   "cell_type": "code",
   "execution_count": 26,
   "id": "9177d834",
   "metadata": {},
   "outputs": [],
   "source": [
    "df['full_partime_job'].fillna('Children/Armed_Forces',inplace=True)"
   ]
  },
  {
   "cell_type": "code",
   "execution_count": 27,
   "id": "e4730e0a",
   "metadata": {},
   "outputs": [
    {
     "data": {
      "text/plain": [
       " Householder                                        28081\n",
       " Child <18 never marr not in subfamily              26380\n",
       " Spouse of householder                              21940\n",
       " Nonfamily householder                              11728\n",
       " Child 18+ never marr Not in a subfamily             6320\n",
       " Secondary individual                                3224\n",
       " Other Rel 18+ ever marr not in subfamily             997\n",
       " Grandchild <18 never marr child of subfamily RP      980\n",
       " Other Rel 18+ never marr not in subfamily            929\n",
       " Child 18+ ever marr Not in a subfamily               547\n",
       " Grandchild <18 never marr not in subfamily           542\n",
       " Child under 18 of RP of unrel subfamily              390\n",
       " RP of unrelated subfamily                            388\n",
       " Other Rel 18+ ever marr RP of subfamily              386\n",
       " Child 18+ ever marr RP of subfamily                  350\n",
       " Other Rel <18 never marr child of subfamily RP       348\n",
       " Other Rel <18 never marr not in subfamily            316\n",
       " Other Rel 18+ spouse of subfamily RP                 308\n",
       " Child 18+ never marr RP of subfamily                 308\n",
       " Grandchild 18+ never marr not in subfamily           195\n",
       " In group quarters                                    108\n",
       " Child 18+ spouse of subfamily RP                      64\n",
       " Child <18 never marr RP of subfamily                  46\n",
       " Other Rel 18+ never marr RP of subfamily              45\n",
       " Spouse of RP of unrelated subfamily                   23\n",
       " Grandchild 18+ ever marr not in subfamily             19\n",
       " Child <18 ever marr not in subfamily                  14\n",
       " Grandchild 18+ ever marr RP of subfamily               5\n",
       " Child <18 ever marr RP of subfamily                    3\n",
       " Grandchild 18+ spouse of subfamily RP                  3\n",
       " Other Rel <18 never married RP of subfamily            2\n",
       "Name: house_stat, dtype: int64"
      ]
     },
     "execution_count": 27,
     "metadata": {},
     "output_type": "execute_result"
    }
   ],
   "source": [
    "df['house_stat'].value_counts()"
   ]
  },
  {
   "cell_type": "code",
   "execution_count": 28,
   "id": "b348550f",
   "metadata": {},
   "outputs": [
    {
     "data": {
      "text/plain": [
       "0     Householder\n",
       "Name: house_stat, dtype: object"
      ]
     },
     "execution_count": 28,
     "metadata": {},
     "output_type": "execute_result"
    }
   ],
   "source": [
    "df['house_stat'].mode()"
   ]
  },
  {
   "cell_type": "code",
   "execution_count": 29,
   "id": "8905ae78",
   "metadata": {},
   "outputs": [],
   "source": [
    "df['house_stat'].fillna('Householder',inplace=True)"
   ]
  },
  {
   "cell_type": "code",
   "execution_count": 30,
   "id": "50946018",
   "metadata": {},
   "outputs": [
    {
     "data": {
      "text/plain": [
       "year_of_poll          0\n",
       "own_self_emp          0\n",
       "veteran benefits      0\n",
       "currently_enrolled    0\n",
       "race                  0\n",
       "father_country        0\n",
       "educ                  0\n",
       "house_stat            0\n",
       "major_ind_code        0\n",
       "labour_union          0\n",
       "self_country          0\n",
       "age                   0\n",
       "mother_country        0\n",
       "house_summary         0\n",
       "gender                0\n",
       "hisp_origin           0\n",
       "gains                 0\n",
       "dividends             0\n",
       "marriage_status       0\n",
       "losses                0\n",
       "employer_of           0\n",
       "income_filled         0\n",
       "weeks_worked          0\n",
       "hourly_wage           0\n",
       "citizenship           0\n",
       "fed_liability         0\n",
       "full_partime_job      0\n",
       "income                0\n",
       "dtype: int64"
      ]
     },
     "execution_count": 30,
     "metadata": {},
     "output_type": "execute_result"
    }
   ],
   "source": [
    "df.isnull().sum()"
   ]
  },
  {
   "cell_type": "code",
   "execution_count": 31,
   "id": "a7132c24",
   "metadata": {},
   "outputs": [
    {
     "data": {
      "text/plain": [
       "<AxesSubplot:>"
      ]
     },
     "execution_count": 31,
     "metadata": {},
     "output_type": "execute_result"
    },
    {
     "data": {
      "image/png": "[encoded data removed]",
      "text/plain": [
       "<Figure size 432x288 with 1 Axes>"
      ]
     },
     "metadata": {
      "needs_background": "light"
     },
     "output_type": "display_data"
    }
   ],
   "source": [
    "sns.heatmap(df.isnull(),cbar=False)\n",
    "# we couldn't find the missing value from the dataset."
   ]
  },
  {
   "cell_type": "code",
   "execution_count": 32,
   "id": "91692ee4",
   "metadata": {},
   "outputs": [],
   "source": [
    "df_n = df.select_dtypes(include=[np.number])\n",
    "df_c = df.select_dtypes(exclude=[np.number])"
   ]
  },
  {
   "cell_type": "code",
   "execution_count": 33,
   "id": "fc6d374a",
   "metadata": {},
   "outputs": [
    {
     "data": {
      "text/html": [
       "<div>\n",
       "<style scoped>\n",
       "    .dataframe tbody tr th:only-of-type {\n",
       "        vertical-align: middle;\n",
       "    }\n",
       "\n",
       "    .dataframe tbody tr th {\n",
       "        vertical-align: top;\n",
       "    }\n",
       "\n",
       "    .dataframe thead th {\n",
       "        text-align: right;\n",
       "    }\n",
       "</style>\n",
       "<table border=\"1\" class=\"dataframe\">\n",
       "  <thead>\n",
       "    <tr style=\"text-align: right;\">\n",
       "      <th></th>\n",
       "      <th>year_of_poll</th>\n",
       "      <th>own_self_emp</th>\n",
       "      <th>veteran benefits</th>\n",
       "      <th>age</th>\n",
       "      <th>gains</th>\n",
       "      <th>dividends</th>\n",
       "      <th>losses</th>\n",
       "      <th>employer_of</th>\n",
       "      <th>weeks_worked</th>\n",
       "      <th>hourly_wage</th>\n",
       "    </tr>\n",
       "  </thead>\n",
       "  <tbody>\n",
       "    <tr>\n",
       "      <th>0</th>\n",
       "      <td>2004</td>\n",
       "      <td>0</td>\n",
       "      <td>2</td>\n",
       "      <td>42</td>\n",
       "      <td>0.0</td>\n",
       "      <td>0.0</td>\n",
       "      <td>0.0</td>\n",
       "      <td>1</td>\n",
       "      <td>47</td>\n",
       "      <td>0.0</td>\n",
       "    </tr>\n",
       "    <tr>\n",
       "      <th>1</th>\n",
       "      <td>2005</td>\n",
       "      <td>0</td>\n",
       "      <td>0</td>\n",
       "      <td>10</td>\n",
       "      <td>0.0</td>\n",
       "      <td>0.0</td>\n",
       "      <td>0.0</td>\n",
       "      <td>0</td>\n",
       "      <td>0</td>\n",
       "      <td>0.0</td>\n",
       "    </tr>\n",
       "    <tr>\n",
       "      <th>2</th>\n",
       "      <td>2004</td>\n",
       "      <td>0</td>\n",
       "      <td>2</td>\n",
       "      <td>46</td>\n",
       "      <td>0.0</td>\n",
       "      <td>0.0</td>\n",
       "      <td>0.0</td>\n",
       "      <td>6</td>\n",
       "      <td>47</td>\n",
       "      <td>0.0</td>\n",
       "    </tr>\n",
       "    <tr>\n",
       "      <th>3</th>\n",
       "      <td>2004</td>\n",
       "      <td>0</td>\n",
       "      <td>2</td>\n",
       "      <td>35</td>\n",
       "      <td>0.0</td>\n",
       "      <td>0.0</td>\n",
       "      <td>0.0</td>\n",
       "      <td>2</td>\n",
       "      <td>47</td>\n",
       "      <td>0.0</td>\n",
       "    </tr>\n",
       "    <tr>\n",
       "      <th>4</th>\n",
       "      <td>2004</td>\n",
       "      <td>0</td>\n",
       "      <td>2</td>\n",
       "      <td>61</td>\n",
       "      <td>0.0</td>\n",
       "      <td>0.0</td>\n",
       "      <td>0.0</td>\n",
       "      <td>3</td>\n",
       "      <td>47</td>\n",
       "      <td>0.0</td>\n",
       "    </tr>\n",
       "  </tbody>\n",
       "</table>\n",
       "</div>"
      ],
      "text/plain": [
       "   year_of_poll  own_self_emp  veteran benefits  age  gains  dividends  \\\n",
       "0          2004             0                 2   42    0.0        0.0   \n",
       "1          2005             0                 0   10    0.0        0.0   \n",
       "2          2004             0                 2   46    0.0        0.0   \n",
       "3          2004             0                 2   35    0.0        0.0   \n",
       "4          2004             0                 2   61    0.0        0.0   \n",
       "\n",
       "   losses  employer_of  weeks_worked  hourly_wage  \n",
       "0     0.0            1            47          0.0  \n",
       "1     0.0            0             0          0.0  \n",
       "2     0.0            6            47          0.0  \n",
       "3     0.0            2            47          0.0  \n",
       "4     0.0            3            47          0.0  "
      ]
     },
     "execution_count": 33,
     "metadata": {},
     "output_type": "execute_result"
    }
   ],
   "source": [
    "df_n.head()"
   ]
  },
  {
   "cell_type": "code",
   "execution_count": 34,
   "id": "dc008a69",
   "metadata": {},
   "outputs": [
    {
     "data": {
      "text/html": [
       "<div>\n",
       "<style scoped>\n",
       "    .dataframe tbody tr th:only-of-type {\n",
       "        vertical-align: middle;\n",
       "    }\n",
       "\n",
       "    .dataframe tbody tr th {\n",
       "        vertical-align: top;\n",
       "    }\n",
       "\n",
       "    .dataframe thead th {\n",
       "        text-align: right;\n",
       "    }\n",
       "</style>\n",
       "<table border=\"1\" class=\"dataframe\">\n",
       "  <thead>\n",
       "    <tr style=\"text-align: right;\">\n",
       "      <th></th>\n",
       "      <th>currently_enrolled</th>\n",
       "      <th>race</th>\n",
       "      <th>father_country</th>\n",
       "      <th>educ</th>\n",
       "      <th>house_stat</th>\n",
       "      <th>major_ind_code</th>\n",
       "      <th>labour_union</th>\n",
       "      <th>self_country</th>\n",
       "      <th>mother_country</th>\n",
       "      <th>house_summary</th>\n",
       "      <th>gender</th>\n",
       "      <th>hisp_origin</th>\n",
       "      <th>marriage_status</th>\n",
       "      <th>income_filled</th>\n",
       "      <th>citizenship</th>\n",
       "      <th>fed_liability</th>\n",
       "      <th>full_partime_job</th>\n",
       "      <th>income</th>\n",
       "    </tr>\n",
       "  </thead>\n",
       "  <tbody>\n",
       "    <tr>\n",
       "      <th>0</th>\n",
       "      <td>High school</td>\n",
       "      <td>White</td>\n",
       "      <td>United-States</td>\n",
       "      <td>Associates degree-academic program</td>\n",
       "      <td>Householder</td>\n",
       "      <td>Business and repair services</td>\n",
       "      <td>no</td>\n",
       "      <td>United-States</td>\n",
       "      <td>United-States</td>\n",
       "      <td>Householder</td>\n",
       "      <td>M</td>\n",
       "      <td>All_Other</td>\n",
       "      <td>Married_civilian_Sp_Pr</td>\n",
       "      <td>No</td>\n",
       "      <td>NB_US</td>\n",
       "      <td>Joint_both_under65</td>\n",
       "      <td>Children/Armed_Forces</td>\n",
       "      <td>More than 50K $</td>\n",
       "    </tr>\n",
       "    <tr>\n",
       "      <th>1</th>\n",
       "      <td>College/University</td>\n",
       "      <td>White</td>\n",
       "      <td>Japan</td>\n",
       "      <td>Children</td>\n",
       "      <td>Child &lt;18 never marr not in subfamily</td>\n",
       "      <td>Not in universe or children</td>\n",
       "      <td>no</td>\n",
       "      <td>United-States</td>\n",
       "      <td>United-States</td>\n",
       "      <td>Child_U18_Unmarried</td>\n",
       "      <td>M</td>\n",
       "      <td>Mex_Amer</td>\n",
       "      <td>Unmarried</td>\n",
       "      <td>No</td>\n",
       "      <td>NB_US</td>\n",
       "      <td>Nonfiler</td>\n",
       "      <td>Children/Armed_Forces</td>\n",
       "      <td>More than 50K $</td>\n",
       "    </tr>\n",
       "  </tbody>\n",
       "</table>\n",
       "</div>"
      ],
      "text/plain": [
       "   currently_enrolled    race  father_country  \\\n",
       "0         High school   White   United-States   \n",
       "1  College/University   White           Japan   \n",
       "\n",
       "                                  educ  \\\n",
       "0   Associates degree-academic program   \n",
       "1                             Children   \n",
       "\n",
       "                               house_stat                 major_ind_code  \\\n",
       "0                             Householder   Business and repair services   \n",
       "1   Child <18 never marr not in subfamily    Not in universe or children   \n",
       "\n",
       "  labour_union    self_country  mother_country        house_summary gender  \\\n",
       "0           no   United-States   United-States          Householder      M   \n",
       "1           no   United-States   United-States  Child_U18_Unmarried      M   \n",
       "\n",
       "  hisp_origin         marriage_status income_filled citizenship  \\\n",
       "0   All_Other  Married_civilian_Sp_Pr            No       NB_US   \n",
       "1    Mex_Amer               Unmarried            No       NB_US   \n",
       "\n",
       "        fed_liability       full_partime_job           income  \n",
       "0  Joint_both_under65  Children/Armed_Forces  More than 50K $  \n",
       "1            Nonfiler  Children/Armed_Forces  More than 50K $  "
      ]
     },
     "execution_count": 34,
     "metadata": {},
     "output_type": "execute_result"
    }
   ],
   "source": [
    "df_c.head(2)"
   ]
  },
  {
   "cell_type": "code",
   "execution_count": 35,
   "id": "23bddf73",
   "metadata": {},
   "outputs": [],
   "source": [
    "# 'currentl_enrolled' is of ordered column so, it is ordinal encoding is used\n",
    "# 'race' , here we can use n-1 dummy encoding\n",
    "# 'father_country', here the number of countries may be higher so we can use frequency encoding\n",
    "# 'educ' has higher number of unique values so here we can use frequency encoding\n",
    "# 'house_stat' has higher number of unique values so here we can use frequency encoding\n",
    "# 'major_ind_code' has higher number of unique values so here we can use frequency encoding\n",
    "# 'labour_union', here we can use n-1 dummy encoding\n",
    "# 'self_country' has higher number of unique values so here we can use frequency encoding\n",
    "# 'mother_country' has higher number of unique values so here we can use frequency encoding\n",
    "# 'house_summary' here we can use n-1 dummy encoding\n",
    "# 'gendr' here we can use n-1 dummy encoding\n",
    "# 'hisp_origin' here we can use n-1 dummy encoding\n",
    "# 'marriage_status' here we can use n-1 dummy encoding\n",
    "# 'income_filled' here we can use n-1 dummy encoding\n",
    "# 'citizenship' here we can use n-1 dummy encoding\n",
    "# 'fed_liability' here we can use n-1 dummy encoding\n",
    "# 'full_partime_job' here we can use frequency encoding\n",
    "# 'income' this is the target column we can replace it by 0,1\n"
   ]
  },
  {
   "cell_type": "code",
   "execution_count": 36,
   "id": "a3b034af",
   "metadata": {
    "scrolled": true
   },
   "outputs": [],
   "source": [
    "df_c=pd.get_dummies(df_c,columns=['race','labour_union','house_summary',\n",
    "                             'gender','hisp_origin','marriage_status','income_filled','citizenship',\n",
    "                             'fed_liability'],drop_first=True)"
   ]
  },
  {
   "cell_type": "code",
   "execution_count": 37,
   "id": "56e73f44",
   "metadata": {},
   "outputs": [
    {
     "data": {
      "text/plain": [
       "(105000, 48)"
      ]
     },
     "execution_count": 37,
     "metadata": {},
     "output_type": "execute_result"
    }
   ],
   "source": [
    "df_c.shape"
   ]
  },
  {
   "cell_type": "code",
   "execution_count": 38,
   "id": "928d8ca6",
   "metadata": {},
   "outputs": [
    {
     "data": {
      "text/html": [
       "<div>\n",
       "<style scoped>\n",
       "    .dataframe tbody tr th:only-of-type {\n",
       "        vertical-align: middle;\n",
       "    }\n",
       "\n",
       "    .dataframe tbody tr th {\n",
       "        vertical-align: top;\n",
       "    }\n",
       "\n",
       "    .dataframe thead th {\n",
       "        text-align: right;\n",
       "    }\n",
       "</style>\n",
       "<table border=\"1\" class=\"dataframe\">\n",
       "  <thead>\n",
       "    <tr style=\"text-align: right;\">\n",
       "      <th></th>\n",
       "      <th>currently_enrolled</th>\n",
       "      <th>father_country</th>\n",
       "      <th>educ</th>\n",
       "      <th>house_stat</th>\n",
       "      <th>major_ind_code</th>\n",
       "      <th>self_country</th>\n",
       "      <th>mother_country</th>\n",
       "      <th>full_partime_job</th>\n",
       "      <th>income</th>\n",
       "      <th>race_ Other</th>\n",
       "      <th>...</th>\n",
       "      <th>income_filled_yes</th>\n",
       "      <th>citizenship_FB_US</th>\n",
       "      <th>citizenship_NB_PR</th>\n",
       "      <th>citizenship_NB_US</th>\n",
       "      <th>citizenship_NB_US_Parents</th>\n",
       "      <th>fed_liability_ Nonfiler</th>\n",
       "      <th>fed_liability_ Single</th>\n",
       "      <th>fed_liability_Joint_both_Above65</th>\n",
       "      <th>fed_liability_Joint_both_under65</th>\n",
       "      <th>fed_liability_Joint_one_Under65_one_Above65</th>\n",
       "    </tr>\n",
       "  </thead>\n",
       "  <tbody>\n",
       "    <tr>\n",
       "      <th>0</th>\n",
       "      <td>High school</td>\n",
       "      <td>United-States</td>\n",
       "      <td>Associates degree-academic program</td>\n",
       "      <td>Householder</td>\n",
       "      <td>Business and repair services</td>\n",
       "      <td>United-States</td>\n",
       "      <td>United-States</td>\n",
       "      <td>Children/Armed_Forces</td>\n",
       "      <td>More than 50K $</td>\n",
       "      <td>0</td>\n",
       "      <td>...</td>\n",
       "      <td>0</td>\n",
       "      <td>0</td>\n",
       "      <td>0</td>\n",
       "      <td>1</td>\n",
       "      <td>0</td>\n",
       "      <td>0</td>\n",
       "      <td>0</td>\n",
       "      <td>0</td>\n",
       "      <td>1</td>\n",
       "      <td>0</td>\n",
       "    </tr>\n",
       "    <tr>\n",
       "      <th>1</th>\n",
       "      <td>College/University</td>\n",
       "      <td>Japan</td>\n",
       "      <td>Children</td>\n",
       "      <td>Child &lt;18 never marr not in subfamily</td>\n",
       "      <td>Not in universe or children</td>\n",
       "      <td>United-States</td>\n",
       "      <td>United-States</td>\n",
       "      <td>Children/Armed_Forces</td>\n",
       "      <td>More than 50K $</td>\n",
       "      <td>0</td>\n",
       "      <td>...</td>\n",
       "      <td>0</td>\n",
       "      <td>0</td>\n",
       "      <td>0</td>\n",
       "      <td>1</td>\n",
       "      <td>0</td>\n",
       "      <td>1</td>\n",
       "      <td>0</td>\n",
       "      <td>0</td>\n",
       "      <td>0</td>\n",
       "      <td>0</td>\n",
       "    </tr>\n",
       "  </tbody>\n",
       "</table>\n",
       "<p>2 rows × 48 columns</p>\n",
       "</div>"
      ],
      "text/plain": [
       "   currently_enrolled  father_country                                 educ  \\\n",
       "0         High school   United-States   Associates degree-academic program   \n",
       "1  College/University           Japan                             Children   \n",
       "\n",
       "                               house_stat                 major_ind_code  \\\n",
       "0                             Householder   Business and repair services   \n",
       "1   Child <18 never marr not in subfamily    Not in universe or children   \n",
       "\n",
       "     self_country  mother_country       full_partime_job           income  \\\n",
       "0   United-States   United-States  Children/Armed_Forces  More than 50K $   \n",
       "1   United-States   United-States  Children/Armed_Forces  More than 50K $   \n",
       "\n",
       "   race_ Other  ...  income_filled_yes  citizenship_FB_US  citizenship_NB_PR  \\\n",
       "0            0  ...                  0                  0                  0   \n",
       "1            0  ...                  0                  0                  0   \n",
       "\n",
       "   citizenship_NB_US  citizenship_NB_US_Parents  fed_liability_ Nonfiler  \\\n",
       "0                  1                          0                        0   \n",
       "1                  1                          0                        1   \n",
       "\n",
       "   fed_liability_ Single  fed_liability_Joint_both_Above65  \\\n",
       "0                      0                                 0   \n",
       "1                      0                                 0   \n",
       "\n",
       "   fed_liability_Joint_both_under65  \\\n",
       "0                                 1   \n",
       "1                                 0   \n",
       "\n",
       "   fed_liability_Joint_one_Under65_one_Above65  \n",
       "0                                            0  \n",
       "1                                            0  \n",
       "\n",
       "[2 rows x 48 columns]"
      ]
     },
     "execution_count": 38,
     "metadata": {},
     "output_type": "execute_result"
    }
   ],
   "source": [
    "df_c.head(2)"
   ]
  },
  {
   "cell_type": "code",
   "execution_count": 39,
   "id": "a9e4e262",
   "metadata": {},
   "outputs": [],
   "source": [
    "from sklearn.preprocessing import OrdinalEncoder\n",
    "enc = OrdinalEncoder()\n",
    "df_c[['currently_enrolled']] = enc.fit_transform(df_c[['currently_enrolled']])"
   ]
  },
  {
   "cell_type": "code",
   "execution_count": 40,
   "id": "6f5f5f0b",
   "metadata": {},
   "outputs": [],
   "source": [
    "father_country = (df_c.groupby('father_country').size()) / len(df)\n",
    "df_c['father_country']=df_c['father_country'].map(father_country)\n",
    "\n",
    "# another method\n",
    "#enc_nom_1 = (train.groupby('nom_1').size()) / len(train)\n",
    "#train['nom_1_encode'] = train['nom_1'].apply(lambda x : enc_nom_1[x])"
   ]
  },
  {
   "cell_type": "code",
   "execution_count": 41,
   "id": "fc8fa014",
   "metadata": {},
   "outputs": [],
   "source": [
    "educ = (df_c.groupby('educ').size()) / len(df)\n",
    "df_c['educ']=df_c['educ'].map(educ)"
   ]
  },
  {
   "cell_type": "code",
   "execution_count": 42,
   "id": "713e3ef5",
   "metadata": {},
   "outputs": [],
   "source": [
    "house_stat = (df_c.groupby('house_stat').size()) / len(df)\n",
    "df_c['house_stat']=df_c['house_stat'].map(house_stat)"
   ]
  },
  {
   "cell_type": "code",
   "execution_count": 43,
   "id": "bd1a01fb",
   "metadata": {},
   "outputs": [],
   "source": [
    "major_ind_code = (df_c.groupby('major_ind_code').size()) / len(df)\n",
    "df_c['major_ind_code']=df_c['major_ind_code'].map(major_ind_code)"
   ]
  },
  {
   "cell_type": "code",
   "execution_count": 44,
   "id": "4412af27",
   "metadata": {},
   "outputs": [],
   "source": [
    "self_country = (df_c.groupby('self_country').size()) / len(df)\n",
    "df_c['self_country']=df_c['self_country'].map(self_country)"
   ]
  },
  {
   "cell_type": "code",
   "execution_count": 45,
   "id": "a8519373",
   "metadata": {},
   "outputs": [],
   "source": [
    "mother_country = (df_c.groupby('mother_country').size()) / len(df)\n",
    "df_c['mother_country']=df_c['mother_country'].map(mother_country)"
   ]
  },
  {
   "cell_type": "code",
   "execution_count": 46,
   "id": "476c20ee",
   "metadata": {},
   "outputs": [],
   "source": [
    "full_partime_job = (df_c.groupby('full_partime_job').size()) / len(df)\n",
    "df_c['full_partime_job']=df_c['full_partime_job'].map(full_partime_job)"
   ]
  },
  {
   "cell_type": "code",
   "execution_count": 47,
   "id": "30a6a9d4",
   "metadata": {},
   "outputs": [],
   "source": [
    "df_y = df[['income']]"
   ]
  },
  {
   "cell_type": "code",
   "execution_count": 50,
   "id": "b955c1ee",
   "metadata": {},
   "outputs": [
    {
     "name": "stderr",
     "output_type": "stream",
     "text": [
      "C:\\Users\\Dell\\AppData\\Local\\Temp\\ipykernel_22384\\2065964613.py:1: SettingWithCopyWarning: \n",
      "A value is trying to be set on a copy of a slice from a DataFrame\n",
      "\n",
      "See the caveats in the documentation: https://pandas.pydata.org/pandas-docs/stable/user_guide/indexing.html#returning-a-view-versus-a-copy\n",
      "  df_y.replace(to_replace=['More than 50K $', 'Less than 50K $'],value=(1,0),inplace=True)\n"
     ]
    }
   ],
   "source": [
    "df_y.replace(to_replace=['More than 50K $', 'Less than 50K $'],value=(1,0),inplace=True)"
   ]
  },
  {
   "cell_type": "code",
   "execution_count": 51,
   "id": "59e01260",
   "metadata": {},
   "outputs": [
    {
     "data": {
      "text/html": [
       "<div>\n",
       "<style scoped>\n",
       "    .dataframe tbody tr th:only-of-type {\n",
       "        vertical-align: middle;\n",
       "    }\n",
       "\n",
       "    .dataframe tbody tr th {\n",
       "        vertical-align: top;\n",
       "    }\n",
       "\n",
       "    .dataframe thead th {\n",
       "        text-align: right;\n",
       "    }\n",
       "</style>\n",
       "<table border=\"1\" class=\"dataframe\">\n",
       "  <thead>\n",
       "    <tr style=\"text-align: right;\">\n",
       "      <th></th>\n",
       "      <th>income</th>\n",
       "    </tr>\n",
       "  </thead>\n",
       "  <tbody>\n",
       "    <tr>\n",
       "      <th>0</th>\n",
       "      <td>1</td>\n",
       "    </tr>\n",
       "    <tr>\n",
       "      <th>1</th>\n",
       "      <td>1</td>\n",
       "    </tr>\n",
       "  </tbody>\n",
       "</table>\n",
       "</div>"
      ],
      "text/plain": [
       "   income\n",
       "0       1\n",
       "1       1"
      ]
     },
     "execution_count": 51,
     "metadata": {},
     "output_type": "execute_result"
    }
   ],
   "source": [
    "df_y.head(2)"
   ]
  },
  {
   "cell_type": "code",
   "execution_count": 52,
   "id": "a282c107",
   "metadata": {},
   "outputs": [],
   "source": [
    "df_c.drop(['income'],axis=1,inplace=True)"
   ]
  },
  {
   "cell_type": "code",
   "execution_count": 53,
   "id": "e2e3a204",
   "metadata": {},
   "outputs": [
    {
     "data": {
      "text/html": [
       "<div>\n",
       "<style scoped>\n",
       "    .dataframe tbody tr th:only-of-type {\n",
       "        vertical-align: middle;\n",
       "    }\n",
       "\n",
       "    .dataframe tbody tr th {\n",
       "        vertical-align: top;\n",
       "    }\n",
       "\n",
       "    .dataframe thead th {\n",
       "        text-align: right;\n",
       "    }\n",
       "</style>\n",
       "<table border=\"1\" class=\"dataframe\">\n",
       "  <thead>\n",
       "    <tr style=\"text-align: right;\">\n",
       "      <th></th>\n",
       "      <th>currently_enrolled</th>\n",
       "      <th>father_country</th>\n",
       "      <th>educ</th>\n",
       "      <th>house_stat</th>\n",
       "      <th>major_ind_code</th>\n",
       "      <th>self_country</th>\n",
       "      <th>mother_country</th>\n",
       "      <th>full_partime_job</th>\n",
       "      <th>race_ Other</th>\n",
       "      <th>race_ White</th>\n",
       "      <th>...</th>\n",
       "      <th>income_filled_yes</th>\n",
       "      <th>citizenship_FB_US</th>\n",
       "      <th>citizenship_NB_PR</th>\n",
       "      <th>citizenship_NB_US</th>\n",
       "      <th>citizenship_NB_US_Parents</th>\n",
       "      <th>fed_liability_ Nonfiler</th>\n",
       "      <th>fed_liability_ Single</th>\n",
       "      <th>fed_liability_Joint_both_Above65</th>\n",
       "      <th>fed_liability_Joint_both_under65</th>\n",
       "      <th>fed_liability_Joint_one_Under65_one_Above65</th>\n",
       "    </tr>\n",
       "  </thead>\n",
       "  <tbody>\n",
       "    <tr>\n",
       "      <th>0</th>\n",
       "      <td>0.0</td>\n",
       "      <td>0.797333</td>\n",
       "      <td>0.021800</td>\n",
       "      <td>0.267438</td>\n",
       "      <td>0.028210</td>\n",
       "      <td>0.885924</td>\n",
       "      <td>0.803086</td>\n",
       "      <td>0.624381</td>\n",
       "      <td>0</td>\n",
       "      <td>1</td>\n",
       "      <td>...</td>\n",
       "      <td>0</td>\n",
       "      <td>0</td>\n",
       "      <td>0</td>\n",
       "      <td>1</td>\n",
       "      <td>0</td>\n",
       "      <td>0</td>\n",
       "      <td>0</td>\n",
       "      <td>0</td>\n",
       "      <td>1</td>\n",
       "      <td>0</td>\n",
       "    </tr>\n",
       "    <tr>\n",
       "      <th>1</th>\n",
       "      <td>1.0</td>\n",
       "      <td>0.001990</td>\n",
       "      <td>0.236486</td>\n",
       "      <td>0.251238</td>\n",
       "      <td>0.505286</td>\n",
       "      <td>0.885924</td>\n",
       "      <td>0.803086</td>\n",
       "      <td>0.624381</td>\n",
       "      <td>0</td>\n",
       "      <td>1</td>\n",
       "      <td>...</td>\n",
       "      <td>0</td>\n",
       "      <td>0</td>\n",
       "      <td>0</td>\n",
       "      <td>1</td>\n",
       "      <td>0</td>\n",
       "      <td>1</td>\n",
       "      <td>0</td>\n",
       "      <td>0</td>\n",
       "      <td>0</td>\n",
       "      <td>0</td>\n",
       "    </tr>\n",
       "    <tr>\n",
       "      <th>2</th>\n",
       "      <td>1.0</td>\n",
       "      <td>0.797333</td>\n",
       "      <td>0.139400</td>\n",
       "      <td>0.030705</td>\n",
       "      <td>0.045762</td>\n",
       "      <td>0.885924</td>\n",
       "      <td>0.803086</td>\n",
       "      <td>0.624381</td>\n",
       "      <td>0</td>\n",
       "      <td>1</td>\n",
       "      <td>...</td>\n",
       "      <td>0</td>\n",
       "      <td>0</td>\n",
       "      <td>0</td>\n",
       "      <td>1</td>\n",
       "      <td>0</td>\n",
       "      <td>0</td>\n",
       "      <td>1</td>\n",
       "      <td>0</td>\n",
       "      <td>0</td>\n",
       "      <td>0</td>\n",
       "    </tr>\n",
       "    <tr>\n",
       "      <th>3</th>\n",
       "      <td>1.0</td>\n",
       "      <td>0.797333</td>\n",
       "      <td>0.243886</td>\n",
       "      <td>0.267438</td>\n",
       "      <td>0.017695</td>\n",
       "      <td>0.885924</td>\n",
       "      <td>0.803086</td>\n",
       "      <td>0.624381</td>\n",
       "      <td>0</td>\n",
       "      <td>0</td>\n",
       "      <td>...</td>\n",
       "      <td>1</td>\n",
       "      <td>0</td>\n",
       "      <td>0</td>\n",
       "      <td>1</td>\n",
       "      <td>0</td>\n",
       "      <td>0</td>\n",
       "      <td>0</td>\n",
       "      <td>0</td>\n",
       "      <td>1</td>\n",
       "      <td>0</td>\n",
       "    </tr>\n",
       "    <tr>\n",
       "      <th>4</th>\n",
       "      <td>1.0</td>\n",
       "      <td>0.797333</td>\n",
       "      <td>0.243886</td>\n",
       "      <td>0.267438</td>\n",
       "      <td>0.017695</td>\n",
       "      <td>0.885924</td>\n",
       "      <td>0.803086</td>\n",
       "      <td>0.624381</td>\n",
       "      <td>0</td>\n",
       "      <td>1</td>\n",
       "      <td>...</td>\n",
       "      <td>1</td>\n",
       "      <td>0</td>\n",
       "      <td>0</td>\n",
       "      <td>1</td>\n",
       "      <td>0</td>\n",
       "      <td>0</td>\n",
       "      <td>1</td>\n",
       "      <td>0</td>\n",
       "      <td>0</td>\n",
       "      <td>0</td>\n",
       "    </tr>\n",
       "  </tbody>\n",
       "</table>\n",
       "<p>5 rows × 47 columns</p>\n",
       "</div>"
      ],
      "text/plain": [
       "   currently_enrolled  father_country      educ  house_stat  major_ind_code  \\\n",
       "0                 0.0        0.797333  0.021800    0.267438        0.028210   \n",
       "1                 1.0        0.001990  0.236486    0.251238        0.505286   \n",
       "2                 1.0        0.797333  0.139400    0.030705        0.045762   \n",
       "3                 1.0        0.797333  0.243886    0.267438        0.017695   \n",
       "4                 1.0        0.797333  0.243886    0.267438        0.017695   \n",
       "\n",
       "   self_country  mother_country  full_partime_job  race_ Other  race_ White  \\\n",
       "0      0.885924        0.803086          0.624381            0            1   \n",
       "1      0.885924        0.803086          0.624381            0            1   \n",
       "2      0.885924        0.803086          0.624381            0            1   \n",
       "3      0.885924        0.803086          0.624381            0            0   \n",
       "4      0.885924        0.803086          0.624381            0            1   \n",
       "\n",
       "   ...  income_filled_yes  citizenship_FB_US  citizenship_NB_PR  \\\n",
       "0  ...                  0                  0                  0   \n",
       "1  ...                  0                  0                  0   \n",
       "2  ...                  0                  0                  0   \n",
       "3  ...                  1                  0                  0   \n",
       "4  ...                  1                  0                  0   \n",
       "\n",
       "   citizenship_NB_US  citizenship_NB_US_Parents  fed_liability_ Nonfiler  \\\n",
       "0                  1                          0                        0   \n",
       "1                  1                          0                        1   \n",
       "2                  1                          0                        0   \n",
       "3                  1                          0                        0   \n",
       "4                  1                          0                        0   \n",
       "\n",
       "   fed_liability_ Single  fed_liability_Joint_both_Above65  \\\n",
       "0                      0                                 0   \n",
       "1                      0                                 0   \n",
       "2                      1                                 0   \n",
       "3                      0                                 0   \n",
       "4                      1                                 0   \n",
       "\n",
       "   fed_liability_Joint_both_under65  \\\n",
       "0                                 1   \n",
       "1                                 0   \n",
       "2                                 0   \n",
       "3                                 1   \n",
       "4                                 0   \n",
       "\n",
       "   fed_liability_Joint_one_Under65_one_Above65  \n",
       "0                                            0  \n",
       "1                                            0  \n",
       "2                                            0  \n",
       "3                                            0  \n",
       "4                                            0  \n",
       "\n",
       "[5 rows x 47 columns]"
      ]
     },
     "execution_count": 53,
     "metadata": {},
     "output_type": "execute_result"
    }
   ],
   "source": [
    "df_c.head()"
   ]
  },
  {
   "cell_type": "code",
   "execution_count": 54,
   "id": "3b4c0b0e",
   "metadata": {},
   "outputs": [
    {
     "data": {
      "text/html": [
       "<div>\n",
       "<style scoped>\n",
       "    .dataframe tbody tr th:only-of-type {\n",
       "        vertical-align: middle;\n",
       "    }\n",
       "\n",
       "    .dataframe tbody tr th {\n",
       "        vertical-align: top;\n",
       "    }\n",
       "\n",
       "    .dataframe thead th {\n",
       "        text-align: right;\n",
       "    }\n",
       "</style>\n",
       "<table border=\"1\" class=\"dataframe\">\n",
       "  <thead>\n",
       "    <tr style=\"text-align: right;\">\n",
       "      <th></th>\n",
       "      <th>year_of_poll</th>\n",
       "      <th>own_self_emp</th>\n",
       "      <th>veteran benefits</th>\n",
       "      <th>age</th>\n",
       "      <th>gains</th>\n",
       "      <th>dividends</th>\n",
       "      <th>losses</th>\n",
       "      <th>employer_of</th>\n",
       "      <th>weeks_worked</th>\n",
       "      <th>hourly_wage</th>\n",
       "    </tr>\n",
       "  </thead>\n",
       "  <tbody>\n",
       "    <tr>\n",
       "      <th>0</th>\n",
       "      <td>2004</td>\n",
       "      <td>0</td>\n",
       "      <td>2</td>\n",
       "      <td>42</td>\n",
       "      <td>0.0</td>\n",
       "      <td>0.0</td>\n",
       "      <td>0.0</td>\n",
       "      <td>1</td>\n",
       "      <td>47</td>\n",
       "      <td>0.0</td>\n",
       "    </tr>\n",
       "    <tr>\n",
       "      <th>1</th>\n",
       "      <td>2005</td>\n",
       "      <td>0</td>\n",
       "      <td>0</td>\n",
       "      <td>10</td>\n",
       "      <td>0.0</td>\n",
       "      <td>0.0</td>\n",
       "      <td>0.0</td>\n",
       "      <td>0</td>\n",
       "      <td>0</td>\n",
       "      <td>0.0</td>\n",
       "    </tr>\n",
       "    <tr>\n",
       "      <th>2</th>\n",
       "      <td>2004</td>\n",
       "      <td>0</td>\n",
       "      <td>2</td>\n",
       "      <td>46</td>\n",
       "      <td>0.0</td>\n",
       "      <td>0.0</td>\n",
       "      <td>0.0</td>\n",
       "      <td>6</td>\n",
       "      <td>47</td>\n",
       "      <td>0.0</td>\n",
       "    </tr>\n",
       "    <tr>\n",
       "      <th>3</th>\n",
       "      <td>2004</td>\n",
       "      <td>0</td>\n",
       "      <td>2</td>\n",
       "      <td>35</td>\n",
       "      <td>0.0</td>\n",
       "      <td>0.0</td>\n",
       "      <td>0.0</td>\n",
       "      <td>2</td>\n",
       "      <td>47</td>\n",
       "      <td>0.0</td>\n",
       "    </tr>\n",
       "    <tr>\n",
       "      <th>4</th>\n",
       "      <td>2004</td>\n",
       "      <td>0</td>\n",
       "      <td>2</td>\n",
       "      <td>61</td>\n",
       "      <td>0.0</td>\n",
       "      <td>0.0</td>\n",
       "      <td>0.0</td>\n",
       "      <td>3</td>\n",
       "      <td>47</td>\n",
       "      <td>0.0</td>\n",
       "    </tr>\n",
       "  </tbody>\n",
       "</table>\n",
       "</div>"
      ],
      "text/plain": [
       "   year_of_poll  own_self_emp  veteran benefits  age  gains  dividends  \\\n",
       "0          2004             0                 2   42    0.0        0.0   \n",
       "1          2005             0                 0   10    0.0        0.0   \n",
       "2          2004             0                 2   46    0.0        0.0   \n",
       "3          2004             0                 2   35    0.0        0.0   \n",
       "4          2004             0                 2   61    0.0        0.0   \n",
       "\n",
       "   losses  employer_of  weeks_worked  hourly_wage  \n",
       "0     0.0            1            47          0.0  \n",
       "1     0.0            0             0          0.0  \n",
       "2     0.0            6            47          0.0  \n",
       "3     0.0            2            47          0.0  \n",
       "4     0.0            3            47          0.0  "
      ]
     },
     "execution_count": 54,
     "metadata": {},
     "output_type": "execute_result"
    }
   ],
   "source": [
    "df_n.head()"
   ]
  },
  {
   "cell_type": "code",
   "execution_count": 77,
   "id": "ed10d243",
   "metadata": {},
   "outputs": [],
   "source": [
    "# own_self_emp is catogorical variable \n",
    "# veteran benefits is also a catagorical variable\n",
    "# employer_of is also a catagorical variable\n",
    "# year of poll is also a catagorical variable"
   ]
  },
  {
   "cell_type": "code",
   "execution_count": 79,
   "id": "e62e0304",
   "metadata": {},
   "outputs": [],
   "source": [
    "df_c=df_c+df_n[['year_of_poll','own_self_emp','veteran benefits','employer_of']]"
   ]
  },
  {
   "cell_type": "code",
   "execution_count": 81,
   "id": "283546b2",
   "metadata": {},
   "outputs": [],
   "source": [
    "df_n.drop(columns=['year_of_poll','own_self_emp','veteran benefits','employer_of'],inplace=True)"
   ]
  },
  {
   "cell_type": "code",
   "execution_count": 82,
   "id": "0652b118",
   "metadata": {},
   "outputs": [
    {
     "data": {
      "text/html": [
       "<div>\n",
       "<style scoped>\n",
       "    .dataframe tbody tr th:only-of-type {\n",
       "        vertical-align: middle;\n",
       "    }\n",
       "\n",
       "    .dataframe tbody tr th {\n",
       "        vertical-align: top;\n",
       "    }\n",
       "\n",
       "    .dataframe thead th {\n",
       "        text-align: right;\n",
       "    }\n",
       "</style>\n",
       "<table border=\"1\" class=\"dataframe\">\n",
       "  <thead>\n",
       "    <tr style=\"text-align: right;\">\n",
       "      <th></th>\n",
       "      <th>age</th>\n",
       "      <th>gains</th>\n",
       "      <th>dividends</th>\n",
       "      <th>losses</th>\n",
       "      <th>weeks_worked</th>\n",
       "      <th>hourly_wage</th>\n",
       "    </tr>\n",
       "  </thead>\n",
       "  <tbody>\n",
       "    <tr>\n",
       "      <th>0</th>\n",
       "      <td>42</td>\n",
       "      <td>0.0</td>\n",
       "      <td>0.0</td>\n",
       "      <td>0.0</td>\n",
       "      <td>47</td>\n",
       "      <td>0.0</td>\n",
       "    </tr>\n",
       "    <tr>\n",
       "      <th>1</th>\n",
       "      <td>10</td>\n",
       "      <td>0.0</td>\n",
       "      <td>0.0</td>\n",
       "      <td>0.0</td>\n",
       "      <td>0</td>\n",
       "      <td>0.0</td>\n",
       "    </tr>\n",
       "  </tbody>\n",
       "</table>\n",
       "</div>"
      ],
      "text/plain": [
       "   age  gains  dividends  losses  weeks_worked  hourly_wage\n",
       "0   42    0.0        0.0     0.0            47          0.0\n",
       "1   10    0.0        0.0     0.0             0          0.0"
      ]
     },
     "execution_count": 82,
     "metadata": {},
     "output_type": "execute_result"
    }
   ],
   "source": [
    "df_n.head(2)"
   ]
  },
  {
   "cell_type": "code",
   "execution_count": 89,
   "id": "6bcf05a8",
   "metadata": {},
   "outputs": [
    {
     "data": {
      "image/png": "[encoded data removed]",
      "text/plain": [
       "<Figure size 432x288 with 1 Axes>"
      ]
     },
     "metadata": {
      "needs_background": "light"
     },
     "output_type": "display_data"
    },
    {
     "data": {
      "image/png": "[encoded data removed]",
      "text/plain": [
       "<Figure size 432x288 with 1 Axes>"
      ]
     },
     "metadata": {
      "needs_background": "light"
     },
     "output_type": "display_data"
    },
    {
     "data": {
      "image/png": "[encoded data removed]",
      "text/plain": [
       "<Figure size 432x288 with 1 Axes>"
      ]
     },
     "metadata": {
      "needs_background": "light"
     },
     "output_type": "display_data"
    },
    {
     "data": {
      "image/png": "[encoded data removed]",
      "text/plain": [
       "<Figure size 432x288 with 1 Axes>"
      ]
     },
     "metadata": {
      "needs_background": "light"
     },
     "output_type": "display_data"
    },
    {
     "data": {
      "image/png": "[encoded data removed]",
      "text/plain": [
       "<Figure size 432x288 with 1 Axes>"
      ]
     },
     "metadata": {
      "needs_background": "light"
     },
     "output_type": "display_data"
    },
    {
     "data": {
      "image/png": "[encoded data removed]",
      "text/plain": [
       "<Figure size 432x288 with 1 Axes>"
      ]
     },
     "metadata": {
      "needs_background": "light"
     },
     "output_type": "display_data"
    }
   ],
   "source": [
    "import matplotlib.pyplot as plt\n",
    "\n",
    "for column in df_n:\n",
    "    plt.figure()\n",
    "    df_n.boxplot([column])"
   ]
  },
  {
   "cell_type": "code",
   "execution_count": null,
   "id": "dca6d89b",
   "metadata": {},
   "outputs": [],
   "source": []
  },
  {
   "cell_type": "code",
   "execution_count": null,
   "id": "20c6d4fb",
   "metadata": {},
   "outputs": [],
   "source": []
  },
  {
   "cell_type": "code",
   "execution_count": null,
   "id": "4cde0d92",
   "metadata": {},
   "outputs": [],
   "source": []
  },
  {
   "cell_type": "code",
   "execution_count": null,
   "id": "9a54bf38",
   "metadata": {},
   "outputs": [],
   "source": [
    "sns.heatmap(df.corr(),annot=True,cbar=False)"
   ]
  },
  {
   "cell_type": "code",
   "execution_count": null,
   "id": "588cff3a",
   "metadata": {},
   "outputs": [],
   "source": []
  }
 ],
 "metadata": {
  "kernelspec": {
   "display_name": "Python 3 (ipykernel)",
   "language": "python",
   "name": "python3"
  },
  "language_info": {
   "codemirror_mode": {
    "name": "ipython",
    "version": 3
   },
   "file_extension": ".py",
   "mimetype": "text/x-python",
   "name": "python",
   "nbconvert_exporter": "python",
   "pygments_lexer": "ipython3",
   "version": "3.9.12"
  }
 },
 "nbformat": 4,
 "nbformat_minor": 5
}
